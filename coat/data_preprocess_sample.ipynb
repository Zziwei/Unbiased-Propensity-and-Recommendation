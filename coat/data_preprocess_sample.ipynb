{
 "cells": [
  {
   "cell_type": "code",
   "execution_count": 38,
   "metadata": {},
   "outputs": [],
   "source": [
    "import numpy as np\n",
    "import pandas as pd\n",
    "import copy\n",
    "import pickle"
   ]
  },
  {
   "cell_type": "code",
   "execution_count": 39,
   "metadata": {},
   "outputs": [],
   "source": [
    "raw_matrix = np.loadtxt('./train.ascii')\n",
    "userId = np.where(raw_matrix > 0)[0]\n",
    "itemId = np.where(raw_matrix > 0)[1]\n",
    "rating = raw_matrix[np.where(raw_matrix > 0)]\n",
    "train_df = pd.DataFrame({'userId': userId, 'itemId': itemId, 'rating': rating})\n",
    "raw_matrix = np.loadtxt('./test.ascii')\n",
    "userId = np.where(raw_matrix > 0)[0]\n",
    "itemId = np.where(raw_matrix > 0)[1]\n",
    "rating = raw_matrix[np.where(raw_matrix > 0)]\n",
    "test_df = pd.DataFrame({'userId': userId, 'itemId': itemId, 'rating': rating})"
   ]
  },
  {
   "cell_type": "code",
   "execution_count": 40,
   "metadata": {},
   "outputs": [
    {
     "name": "stdout",
     "output_type": "stream",
     "text": [
      "item num = 300\n",
      "train user num = 290\n",
      "test user num = 290\n"
     ]
    }
   ],
   "source": [
    "item_set = set(train_df['itemId'].unique())\n",
    "train_user_set = set(train_df['userId'].unique())\n",
    "test_user_set = set(test_df['userId'].unique())\n",
    "print('item num = ' + str(len(item_set)))\n",
    "print('train user num = ' + str(len(train_user_set)))\n",
    "print('test user num = ' + str(len(test_user_set)))"
   ]
  },
  {
   "cell_type": "code",
   "execution_count": 41,
   "metadata": {},
   "outputs": [],
   "source": [
    "'''rating equal or larger than 4 as positive feedback'''\n",
    "\n",
    "train_df.drop(train_df[train_df['rating'] <= 3].index, inplace=True)\n",
    "train_df.reset_index(inplace=True, drop=True)\n",
    "train_df.drop(columns=['rating'], inplace=True)"
   ]
  },
  {
   "cell_type": "code",
   "execution_count": 42,
   "metadata": {},
   "outputs": [
    {
     "data": {
      "text/plain": [
       "4640"
      ]
     },
     "execution_count": 42,
     "metadata": {},
     "output_type": "execute_result"
    }
   ],
   "source": [
    "len(test_df)"
   ]
  },
  {
   "cell_type": "code",
   "execution_count": 43,
   "metadata": {},
   "outputs": [],
   "source": [
    "train_item_list = train_df['itemId'].unique()\n",
    "test_df = test_df.loc[test_df[test_df['itemId'].isin(train_item_list)].index]"
   ]
  },
  {
   "cell_type": "code",
   "execution_count": 44,
   "metadata": {},
   "outputs": [
    {
     "data": {
      "text/plain": [
       "4407"
      ]
     },
     "execution_count": 44,
     "metadata": {},
     "output_type": "execute_result"
    }
   ],
   "source": [
    "len(test_df)"
   ]
  },
  {
   "cell_type": "code",
   "execution_count": 45,
   "metadata": {},
   "outputs": [],
   "source": [
    "'''rating equal or larger than 4 as positive feedback'''\n",
    "\n",
    "test_df.loc[test_df['rating'] <= 3, 'rating'] = 0\n",
    "test_df.loc[test_df['rating'] > 3, 'rating'] = 1"
   ]
  },
  {
   "cell_type": "code",
   "execution_count": 46,
   "metadata": {},
   "outputs": [
    {
     "name": "stdout",
     "output_type": "stream",
     "text": [
      "item num = 284\n",
      "train user num = 290\n",
      "test user num = 290\n"
     ]
    }
   ],
   "source": [
    "print('item num = ' + str(len(train_df['itemId'].unique())))\n",
    "print('train user num = ' + str(len(train_df['userId'].unique())))\n",
    "print('test user num = ' + str(len(test_df['userId'].unique())))"
   ]
  },
  {
   "cell_type": "code",
   "execution_count": 47,
   "metadata": {},
   "outputs": [],
   "source": [
    "'''in test set, only keep users who have at least one positive and one \n",
    "negative feedback, and have at least two positive feedback in training set'''\n",
    "\n",
    "user_list = []\n",
    "for u in test_user_set:\n",
    "    test_num = len(test_df.loc[test_df['userId'] == u])\n",
    "    pos_num = np.sum(test_df.loc[test_df['userId'] == u, 'rating'])\n",
    "    train_num = len(train_df.loc[train_df['userId'] == u])\n",
    "    if pos_num >= 1 and pos_num < test_num and train_num >= 2:\n",
    "        user_list.append(u)"
   ]
  },
  {
   "cell_type": "code",
   "execution_count": 48,
   "metadata": {},
   "outputs": [],
   "source": [
    "test_df.drop(test_df[~test_df['userId'].isin(user_list)].index, inplace=True)\n",
    "test_df.reset_index(inplace=True, drop=True)"
   ]
  },
  {
   "cell_type": "code",
   "execution_count": 49,
   "metadata": {},
   "outputs": [],
   "source": [
    "'''get the user old id->new id dict'''\n",
    "\n",
    "all_user_list = train_df['userId'].unique()\n",
    "all_item_list = train_df['itemId'].unique()\n",
    "j = 0\n",
    "user_old2new_id_dict = dict()\n",
    "for u in all_user_list:\n",
    "    if not u in user_old2new_id_dict:\n",
    "        user_old2new_id_dict[u] = j\n",
    "        j += 1\n",
    "        \n",
    "j = 0\n",
    "item_old2new_id_dict = dict()\n",
    "for i in all_item_list:\n",
    "    if not i in item_old2new_id_dict:\n",
    "        item_old2new_id_dict[i] = j\n",
    "        j += 1"
   ]
  },
  {
   "cell_type": "code",
   "execution_count": 50,
   "metadata": {},
   "outputs": [],
   "source": [
    "'''reindex users and items in training and test set'''\n",
    "\n",
    "for i in range(len(train_df)):\n",
    "    train_df.at[i, 'userId'] = user_old2new_id_dict[train_df.at[i, 'userId']]\n",
    "    train_df.at[i, 'itemId'] = item_old2new_id_dict[train_df.at[i, 'itemId']]\n",
    "train_user_list = train_df['userId'].unique()\n",
    "train_item_list = train_df['itemId'].unique()\n",
    "for i in range(len(test_df)):\n",
    "    test_df.at[i, 'userId'] = user_old2new_id_dict[test_df.at[i, 'userId']]\n",
    "    test_df.at[i, 'itemId'] = item_old2new_id_dict[test_df.at[i, 'itemId']]\n",
    "test_user_list = test_df['userId'].unique()\n",
    "test_item_list = test_df['itemId'].unique()\n",
    "\n",
    "all_user_list = train_df['userId'].unique()\n",
    "all_item_list = train_df['itemId'].unique()"
   ]
  },
  {
   "cell_type": "code",
   "execution_count": 51,
   "metadata": {},
   "outputs": [
    {
     "name": "stdout",
     "output_type": "stream",
     "text": [
      "item num = 284\n",
      "train user num = 290\n",
      "test user num = 225\n"
     ]
    }
   ],
   "source": [
    "print('item num = ' + str(len(train_df['itemId'].unique())))\n",
    "print('train user num = ' + str(len(train_df['userId'].unique())))\n",
    "print('test user num = ' + str(len(test_df['userId'].unique())))"
   ]
  },
  {
   "cell_type": "code",
   "execution_count": 52,
   "metadata": {},
   "outputs": [],
   "source": [
    "'''in the training set, for each user, randomly select 160 items as validation set'''\n",
    "\n",
    "from scipy.sparse import coo_matrix\n",
    "num_user = len(train_df['userId'].unique())\n",
    "num_item = len(train_df['itemId'].unique())\n",
    "train_mat = coo_matrix((np.ones(len(train_df)),\n",
    "                        (train_df['userId'].values, train_df['itemId'].values)), \n",
    "                       shape=(num_user, num_item)).toarray()\n",
    "user_vali_list = []\n",
    "user_vali_interact = []\n",
    "user_vali_like = []\n",
    "for u in range(num_user):\n",
    "    vali_interact = np.random.choice(np.arange(num_item), 80, replace=False).tolist()\n",
    "    vali_like = np.where(train_mat[u, vali_interact] == 1)[0]\n",
    "    if len(vali_like) > 0 and len(vali_like) < 80:\n",
    "        user_vali_list.append(u)\n",
    "        user_vali_interact.append(vali_interact)\n",
    "        user_vali_like.append(vali_like) \n",
    "        train_mat[u, vali_interact] = 0\n",
    "\n",
    "np.save('./user_vali_list.npy', np.array(user_vali_list))\n",
    "np.save('./user_vali_interact.npy', np.array(user_vali_interact))\n",
    "np.save('./user_vali_like.npy', np.array(user_vali_like))\n"
   ]
  },
  {
   "cell_type": "code",
   "execution_count": 53,
   "metadata": {},
   "outputs": [],
   "source": [
    "'''have the new training set after split a vali set'''\n",
    "\n",
    "userId = np.where(train_mat == 1)[0]\n",
    "itemId = np.where(train_mat == 1)[1]\n",
    "train_df = pd.DataFrame({'userId': userId, 'itemId': itemId})"
   ]
  },
  {
   "cell_type": "code",
   "execution_count": 54,
   "metadata": {},
   "outputs": [],
   "source": [
    "'''compute the popularity of items in training set'''\n",
    "item_pop = np.array(train_df['itemId'].value_counts())\n",
    "item_pop_id = np.array(train_df['itemId'].value_counts().index)\n",
    "item_pop_list = [0] * len(all_item_list)\n",
    "for i in range(len(item_pop_id)):\n",
    "    item_pop_list[item_pop_id[i]] = item_pop[i]"
   ]
  },
  {
   "cell_type": "code",
   "execution_count": 55,
   "metadata": {},
   "outputs": [],
   "source": [
    "'''generate list of items users like in train and vali sets for each user'''\n",
    "\n",
    "user_train_like = []\n",
    "\n",
    "train_array = train_df[['userId', 'itemId']].values\n",
    "\n",
    "for u in all_user_list:\n",
    "    train_like = (train_array[list(np.where(train_array[:, 0] == u)[0]), \n",
    "                              1]).astype(int)\n",
    "    user_train_like.append(train_like)\n",
    "    \n",
    "np.save('./user_train_like.npy', np.array(user_train_like))\n",
    "    "
   ]
  },
  {
   "cell_type": "code",
   "execution_count": 56,
   "metadata": {},
   "outputs": [],
   "source": [
    "train_df.to_csv('./train_df.csv', index=False)\n",
    "test_df.to_csv('./test_df.csv', index=False)\n",
    "\n",
    "np.save('./item_pop.npy', np.array(item_pop_list))\n",
    "\n",
    "with open('./info.pkl', 'wb') as f:\n",
    "    pickle.dump({'num_user': len(all_user_list), 'num_item': len(all_item_list)}, f)"
   ]
  },
  {
   "cell_type": "code",
   "execution_count": 57,
   "metadata": {},
   "outputs": [],
   "source": [
    "'''generate list of items users interact and like in test set for each user'''\n",
    "\n",
    "user_list = test_df['userId'].unique()\n",
    "\n",
    "user_test_interact = []\n",
    "user_test_like = []  \n",
    "\n",
    "test_array = test_df[['userId', 'itemId', 'rating']].values\n",
    "\n",
    "for u in user_list:\n",
    "    test_interact = (test_array[list(np.where(test_array[:, 0] == u)[0]),\n",
    "                                1]).astype(int)\n",
    "    tmp = (test_array[list(np.where(test_array[:, 0] == u)[0]), 2]).astype(int)\n",
    "    test_like = np.where(tmp == 1)[0]\n",
    "    user_test_interact.append(test_interact)\n",
    "    user_test_like.append(test_like)\n",
    "    \n",
    "np.save('./user_test_list.npy', np.array(user_list))\n",
    "np.save('./user_test_interact.npy', np.array(user_test_interact))\n",
    "np.save('./user_test_like.npy', np.array(user_test_like))\n",
    "    "
   ]
  },
  {
   "cell_type": "code",
   "execution_count": null,
   "metadata": {},
   "outputs": [],
   "source": []
  }
 ],
 "metadata": {
  "kernelspec": {
   "display_name": "Python 3",
   "language": "python",
   "name": "python3"
  },
  "language_info": {
   "codemirror_mode": {
    "name": "ipython",
    "version": 3
   },
   "file_extension": ".py",
   "mimetype": "text/x-python",
   "name": "python",
   "nbconvert_exporter": "python",
   "pygments_lexer": "ipython3",
   "version": "3.7.2"
  }
 },
 "nbformat": 4,
 "nbformat_minor": 2
}
